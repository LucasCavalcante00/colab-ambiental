
# @title 🔍 Análise Ambiental no Colab (100% Offline - Base SEMA via WFS)
# @markdown Este notebook cruza o shapefile da fazenda (enviado pelo usuário) com as bases ambientais oficiais do Estado de Mato Grosso (RADAMBRASIL, Uso Consolidado, Unidades de Conservação, Terras Indígenas e Limites Municipais), acessadas diretamente via WFS da SEMA.

# ▶️ Instalar dependências
!pip install geopandas owslib shapely matplotlib -q

# ▶️ Importar bibliotecas
import geopandas as gpd
import matplotlib.pyplot as plt
import zipfile, os
from google.colab import files
from shapely.geometry import Polygon, MultiPolygon
from matplotlib.patches import Polygon as MplPolygon
from matplotlib.collections import PatchCollection
from owslib.wfs import WebFeatureService

# ▶️ Upload do shapefile da fazenda (ZIP)
uploaded = files.upload()
for filename in uploaded:
    if filename.endswith(".zip"):
        with zipfile.ZipFile(filename, 'r') as zip_ref:
            zip_ref.extractall("FAZENDA")

def find_shapefile(folder_path):
    for root, _, files in os.walk(folder_path):
        for file in files:
            if file.endswith(".shp"):
                return os.path.join(root, file)
    return None

fazenda_fp = find_shapefile("FAZENDA")
fazenda = gpd.read_file(fazenda_fp).to_crs("EPSG:32721")

# ▶️ Conecta ao WFS da SEMA e baixa camadas
def baixar_wfs(tipo, nome):
    base_url = "https://geo.sema.mt.gov.br/geoserver/ows"
    layer = {
        "uso": "sema:uso_consolidado_2022",
        "radam": "sema:vegetacao_radambrasil_mt",
        "uc": "sema:unidade_conservacao",
        "ti": "sema:terra_indigena_funai_2020",
        "mun": "sema:limite_municipal"
    }[tipo]
    url = f"{base_url}?service=WFS&version=2.0.0&request=GetFeature&typeName={layer}&outputFormat=application/json"
    gdf = gpd.read_file(url).to_crs("EPSG:32721")
    gdf.to_file(f"{nome}.shp")
    return gdf

uso = baixar_wfs("uso", "uso_consolidado")
radam = baixar_wfs("radam", "radambrasil")
uc = baixar_wfs("uc", "unidades_conservacao")
ti = baixar_wfs("ti", "terras_indigenas")
mun = baixar_wfs("mun", "limites_municipais")

# ▶️ Função cor por vegetação
def cor_por_fitoecolog(nome):
    nome = nome.lower()
    if 'floresta' in nome:
        return '#336633'
    elif 'cerrado' in nome:
        return '#f3e1b4'
    else:
        return '#dddddd'

# ▶️ RADAMBRASIL
radam_clip = radam[radam.intersects(fazenda.unary_union)]
intersec_radam = gpd.overlay(radam_clip, fazenda, how='intersection')
intersec_radam = intersec_radam[intersec_radam.is_valid & ~intersec_radam.is_empty]
intersec_radam['cor'] = intersec_radam['FITOECOLOG'].apply(cor_por_fitoecolog)
intersec_radam['area_ha'] = intersec_radam.geometry.area / 10000

# ▶️ Buffer e mapa RADAM
intersec_radam['buffer'] = intersec_radam.buffer(50)
fig, ax = plt.subplots(figsize=(12, 12))
fazenda.boundary.plot(ax=ax, color='black', linewidth=2.5)
for _, row in intersec_radam.iterrows():
    color = row['cor']
    geom = row['buffer']
    if isinstance(geom, Polygon):
        patch = MplPolygon(list(geom.exterior.coords))
        ax.add_patch(patch)
        patch.set_facecolor(color)
    elif isinstance(geom, MultiPolygon):
        for poly in geom.geoms:
            patch = MplPolygon(list(poly.exterior.coords))
            ax.add_patch(patch)
            patch.set_facecolor(color)
plt.title("Vegetação RADAMBRASIL")
plt.axis('off')
plt.savefig("mapa_radam.jpeg", dpi=300, bbox_inches='tight')
plt.show()

# ▶️ USO CONSOLIDADO
intersec_uso = gpd.overlay(uso, fazenda, how='intersection')
intersec_uso['area_ha'] = intersec_uso.geometry.area / 10000
fig, ax = plt.subplots(figsize=(12, 12))
fazenda.boundary.plot(ax=ax, color='black', linewidth=2.5)
intersec_uso.plot(ax=ax, color='orange', edgecolor='black')
plt.title("Uso Consolidado (SEMA)")
plt.axis('off')
plt.savefig("mapa_uso.jpeg", dpi=300, bbox_inches='tight')
plt.show()

# ▶️ UC / TI / Municípios
intersec_uc = gpd.overlay(uc, fazenda, how='intersection')
intersec_ti = gpd.overlay(ti, fazenda, how='intersection')
intersec_mun = gpd.overlay(mun, fazenda, how='intersection')
print("ÁREA sobreposta com Unidades de Conservação:", intersec_uc.area.sum() / 10000, "ha")
print("ÁREA sobreposta com Terras Indígenas:", intersec_ti.area.sum() / 10000, "ha")
print("Área da fazenda dentro do município:", intersec_mun.area.sum() / 10000, "ha")

# ▶️ Exportar mapas
files.download("mapa_radam.jpeg")
files.download("mapa_uso.jpeg")
